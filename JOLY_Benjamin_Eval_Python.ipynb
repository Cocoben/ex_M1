{
  "nbformat": 4,
  "nbformat_minor": 0,
  "metadata": {
    "colab": {
      "name": "JOLY_Benjamin_Eval_Python",
      "provenance": [],
      "authorship_tag": "ABX9TyNwTM85MziJEYiH2s4GRNXX",
      "include_colab_link": true
    },
    "kernelspec": {
      "name": "python3",
      "display_name": "Python 3"
    }
  },
  "cells": [
    {
      "cell_type": "markdown",
      "metadata": {
        "id": "view-in-github",
        "colab_type": "text"
      },
      "source": [
        "<a href=\"https://colab.research.google.com/github/Cocoben/ex_M1/blob/main/JOLY_Benjamin_Eval_Python.ipynb\" target=\"_parent\"><img src=\"https://colab.research.google.com/assets/colab-badge.svg\" alt=\"Open In Colab\"/></a>"
      ]
    },
    {
      "cell_type": "code",
      "metadata": {
        "id": "x2qIrnKNoJ8a"
      },
      "source": [
        ""
      ],
      "execution_count": null,
      "outputs": []
    },
    {
      "cell_type": "markdown",
      "metadata": {
        "id": "caCYEio_oRMn"
      },
      "source": [
        "## Problème 1 : Carré"
      ]
    },
    {
      "cell_type": "markdown",
      "metadata": {
        "id": "GKj-JtFFoSUp"
      },
      "source": [
        "Ecrire une fonction en python qui demande un nombre à l'utilisateur et qui affiche le carré de ce nombre."
      ]
    },
    {
      "cell_type": "code",
      "metadata": {
        "id": "uEASRtSloT0w"
      },
      "source": [
        "A = int(input())\n",
        "print(A * A)"
      ],
      "execution_count": null,
      "outputs": []
    },
    {
      "cell_type": "markdown",
      "metadata": {
        "id": "NLiDL_fWofQ7"
      },
      "source": [
        "## Problème 2 : Produit"
      ]
    },
    {
      "cell_type": "markdown",
      "metadata": {
        "id": "G8Jlnqhiog0v"
      },
      "source": [
        "Ecrire une fonction en python qui prend deux nombres et informe en suite si leur produit est négatif ou positif ou nul. Attention : il n'est pas nécessaire de renvoyer le produit des deux nombres."
      ]
    },
    {
      "cell_type": "code",
      "metadata": {
        "id": "qrQOPnLpokWx"
      },
      "source": [
        "A = int(input())\n",
        "B = int(input())\n",
        "if  A==0 or B==0: \n",
        "  print('Nul')\n",
        "elif A<0 or B<0:\n",
        "  if A<0 and B<0:\n",
        "    print('Positif')\n",
        "  else: print('Negatif')\n",
        "else:\n",
        "  print('Positif')"
      ],
      "execution_count": null,
      "outputs": []
    },
    {
      "cell_type": "markdown",
      "metadata": {
        "id": "9GOwraxQoqub"
      },
      "source": [
        "## Problème 3 : Somme"
      ]
    },
    {
      "cell_type": "markdown",
      "metadata": {
        "id": "E3D8FLODosbY"
      },
      "source": [
        "Ecrire une fonction en python qui prend un nombre de départ disons k, et qui calcule la somme des entiers jusqu’à ce nombre, noté ∑􏰀􏰁􏰂􏰃 𝑖. Par exemple, si k = 5, la fonction doit\n",
        "renvoyer : 15."
      ]
    },
    {
      "cell_type": "code",
      "metadata": {
        "id": "hy1QbpyFouFp",
        "outputId": "7e14009e-6ed4-4703-fa78-57d6fd3ceee3",
        "colab": {
          "base_uri": "https://localhost:8080/"
        }
      },
      "source": [
        "nombre = int(input('Rentrez un nombre :'))\n",
        "i = 0\n",
        "resultat = 0\n",
        "\n",
        "while i < nombre:\n",
        "  i = i + 1\n",
        "  resultat = resultat + i\n",
        "\n",
        "print(resultat)"
      ],
      "execution_count": 12,
      "outputs": [
        {
          "output_type": "stream",
          "text": [
            "Rentrez un nombre :5\n",
            "15\n"
          ],
          "name": "stdout"
        }
      ]
    },
    {
      "cell_type": "markdown",
      "metadata": {
        "id": "CnqUh_DHrfTI"
      },
      "source": [
        "## Problème 4 : FacProduct"
      ]
    },
    {
      "cell_type": "markdown",
      "metadata": {
        "id": "PWLScRTCrhYR"
      },
      "source": [
        "Ecrire un algorithme qui, à partir de deux tableaux précédemment saisis calcule le 'FacProduct' des deux tableaux. Pour calculer le 'FacProduct', il faut multiplier chaque élément du tableau1 par chaque élément du tableau2, et additionner le tout.\n"
      ]
    },
    {
      "cell_type": "code",
      "metadata": {
        "id": "zU6lB2Kdrjfq",
        "outputId": "55b39ba0-1c23-4fed-d866-d4ca80094507",
        "colab": {
          "base_uri": "https://localhost:8080/"
        }
      },
      "source": [
        "from random import randint\n",
        "tab1 = [randint(0,20) for _ in range(10)]\n",
        "tab2 = [randint(0,20) for _ in range(10)]\n",
        "tab3 = []\n",
        "longueur_tableau = 10\n",
        "facProduct = 0\n",
        "i = 0\n",
        "\n",
        "while i < longueur_tableau:\n",
        "  tab3.append(tab1[i] * tab2[i])\n",
        "  i = i + 1\n",
        "\n",
        "for valeur in tab3:\n",
        "  facProduct = facProduct + valeur\n",
        "\n",
        "print(facProduct)"
      ],
      "execution_count": 15,
      "outputs": [
        {
          "output_type": "stream",
          "text": [
            "787\n"
          ],
          "name": "stdout"
        }
      ]
    },
    {
      "cell_type": "markdown",
      "metadata": {
        "id": "qnPpTIS7sSkw"
      },
      "source": [
        "\n",
        "## Problème 5 : Minimum"
      ]
    },
    {
      "cell_type": "markdown",
      "metadata": {
        "id": "85tv4GP8sWYE"
      },
      "source": [
        "Ecrire un algorithme retournant le minimum d'un tableau donné."
      ]
    },
    {
      "cell_type": "code",
      "metadata": {
        "id": "lVZ-oyU5sWwL",
        "outputId": "26e77224-aa32-481d-b339-9f57b8c97f01",
        "colab": {
          "base_uri": "https://localhost:8080/"
        }
      },
      "source": [
        "min = 20\n",
        "tab = [randint(0,min) for _ in range(int(input(\"La longueur du tableau sera de : \")))]\n",
        "\n",
        "for i, valeur in enumerate(tab):\n",
        "  if valeur < min :\n",
        "    min = valeur\n",
        "    min_index = i\n",
        "\n",
        "print(tab,\"\\nLe minimum est\", min, \", postion :\", min_index)"
      ],
      "execution_count": 26,
      "outputs": [
        {
          "output_type": "stream",
          "text": [
            "La longueur du tableau sera de : 5\n",
            "[19, 15, 6, 10, 7] \n",
            "Le minimum est 6 , postion : 2\n"
          ],
          "name": "stdout"
        }
      ]
    },
    {
      "cell_type": "markdown",
      "metadata": {
        "id": "GYVFMB4ote2O"
      },
      "source": [
        "## Problème 6 : Tri\n",
        "\n"
      ]
    },
    {
      "cell_type": "markdown",
      "metadata": {
        "id": "K7bJZIXjtjnr"
      },
      "source": [
        "Ecrire un algorithme triant un tableau donné par sélection. L'algorithme va commencer par chercher l'élément de plus petite valeur dans le tableau, on le place en tête du tableau et on recommence avec le tableau moins la première case. Vous pouvez notamment utiliser la fonction minimum dans l'exercice précédent."
      ]
    },
    {
      "cell_type": "code",
      "metadata": {
        "id": "JzrH8Zpztlow"
      },
      "source": [
        "#Je parcours tout mon tableau de l'index 1 jusqu'à la fin\n",
        "#J'appelle cette index index_de_tri (i)\n",
        "\t#Dès que je constate qu'une valeur est plus petite que la valeur qui précède \n",
        "\t\t#Je swap\n",
        "\t\t#swap_index (j)  = index_de_tri\n",
        "\t\t#Tant que j != 0 & Liste[swap_index - 1] > Liste[swap_index]\n",
        "\t\t\t#temp = Liste[j]\n",
        "\t\t\t#Liste[j] = liste[j-1]\n",
        "\t\t\t#Liste[j-1] = temp\n",
        "\t\t\t#j = j-1\n",
        "\n",
        "\n",
        "from random import randint\n",
        "tab = [randint(0,10) for _ in range(20)]\n",
        "taille_de_tab = len(liste)\n",
        "\n",
        "index_de_tri = 0\n",
        "print(liste)\n",
        "\n",
        "for i in tab:\n",
        "  if i \n"
      ],
      "execution_count": null,
      "outputs": []
    },
    {
      "cell_type": "markdown",
      "metadata": {
        "id": "aGzDvlmDwvh5"
      },
      "source": [
        "## Problème 8 : Valeur du plus petit doublon"
      ]
    },
    {
      "cell_type": "markdown",
      "metadata": {
        "id": "J7SDhohDwzoc"
      },
      "source": [
        "Ecrire un algorithme qui donne la valeur du premier doublon dans une liste. Par exemple pour la liste l = [1; 2; 3; 6; 5; 3; 7; 2] l'algorithme sortira 3.\n"
      ]
    },
    {
      "cell_type": "code",
      "metadata": {
        "id": "-gIowBQ_w1Rt",
        "outputId": "28c14e01-412d-4bfb-f6f5-1ce434adfccd",
        "colab": {
          "base_uri": "https://localhost:8080/"
        }
      },
      "source": [
        "import sys\n",
        "from random import randint\n",
        "tab1 = [randint(0,20) for _ in range(10)]\n",
        "print(tab1)\n",
        "\n",
        "for i, valeur in enumerate(tab1):\n",
        "  for j in tab1:\n",
        "    if valeur == j:\n",
        "      print('Le doublon est', valeur )\n"
      ],
      "execution_count": 10,
      "outputs": [
        {
          "output_type": "stream",
          "text": [
            "[1, 20, 8, 5, 18, 3, 18, 3, 7, 3]\n",
            "Le doublon est 1\n",
            "Le doublon est 20\n",
            "Le doublon est 8\n",
            "Le doublon est 5\n",
            "Le doublon est 18\n",
            "Le doublon est 18\n",
            "Le doublon est 3\n",
            "Le doublon est 3\n",
            "Le doublon est 3\n",
            "Le doublon est 18\n",
            "Le doublon est 18\n",
            "Le doublon est 3\n",
            "Le doublon est 3\n",
            "Le doublon est 3\n",
            "Le doublon est 7\n",
            "Le doublon est 3\n",
            "Le doublon est 3\n",
            "Le doublon est 3\n"
          ],
          "name": "stdout"
        }
      ]
    },
    {
      "cell_type": "markdown",
      "metadata": {
        "id": "1NiEl4wMuyNv"
      },
      "source": [
        "## Problème 10 : POO"
      ]
    },
    {
      "cell_type": "markdown",
      "metadata": {
        "id": "USZrrY4wu0Ed"
      },
      "source": [
        "Expliquer ce qu'est la programmation orientée objet, le concept d'héritage, de polymorphisme ainsi que la différence avec la programmation dite plus \"classique\" et donner des exemples."
      ]
    },
    {
      "cell_type": "code",
      "metadata": {
        "id": "wbNccebYu3a5"
      },
      "source": [
        "#La programmation orientée objet permet définir des class afin d'y mettre des propriétés et des méthodes. \n",
        "#L'hériatge est le faite d'un objet parent partage certaines propriétés ou méthodes avec un objet enfant.\n",
        "#Le polymorphisme est le faite de modifier des propriétés ou des méthodes par rapport à un objet parents.\n",
        "#L'intééret d'avoir une programmation orienté objet permet plus de polyvalence au niveau du code, avoir du code réutilisable et avoir un code modulaire.\n",
        "#La où le code dite classique est procédural"
      ],
      "execution_count": 30,
      "outputs": []
    },
    {
      "cell_type": "code",
      "metadata": {
        "id": "SgH6nCU6vZp5"
      },
      "source": [
        ""
      ],
      "execution_count": null,
      "outputs": []
    }
  ]
}