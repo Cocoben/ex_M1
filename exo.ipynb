{
  "nbformat": 4,
  "nbformat_minor": 0,
  "metadata": {
    "colab": {
      "name": "Cours Python.ipynb",
      "provenance": []
    },
    "kernelspec": {
      "name": "python3",
      "display_name": "Python 3"
    }
  },
  "cells": [
    {
      "cell_type": "markdown",
      "metadata": {
        "id": "gerGBx0MlXVY"
      },
      "source": [
        "**BASE**"
      ]
    },
    {
      "cell_type": "markdown",
      "metadata": {
        "id": "JSCV9QDmUK6d"
      },
      "source": [
        "Simple échange\n",
        "\n",
        "\n",
        "```\n",
        "A <- Premère valeur \n",
        "B <- Deuxieme valeur \n",
        "C <- prend la première valeur\n",
        "A <- prend la deuxième valeur\n",
        "B <- récupère la première valeur de C\n",
        "```\n",
        "\n"
      ]
    },
    {
      "cell_type": "code",
      "metadata": {
        "id": "DdoxgKFVNBj8",
        "outputId": "3ca96856-131a-4966-8383-51d1ce0d8dbe",
        "colab": {
          "base_uri": "https://localhost:8080/",
          "height": 35
        }
      },
      "source": [
        "A = 1; B = 2\n",
        "C = A\n",
        "A = B\n",
        "B = C\n",
        "print(A,B)"
      ],
      "execution_count": 10,
      "outputs": [
        {
          "output_type": "stream",
          "text": [
            "2 1\n"
          ],
          "name": "stdout"
        }
      ]
    },
    {
      "cell_type": "markdown",
      "metadata": {
        "id": "s5jbbxZEUXgH"
      },
      "source": [
        "Le carré\n",
        "\n",
        "```\n",
        "A <- Demande une valeur\n",
        "Multiplie A par lui même pour obtenir le carré et l'affiche\n",
        "```\n",
        "\n"
      ]
    },
    {
      "cell_type": "code",
      "metadata": {
        "id": "yI6qnThBNohW",
        "outputId": "34811fba-8678-49b8-a5f9-ed4ca707d50b",
        "colab": {
          "base_uri": "https://localhost:8080/",
          "height": 53
        }
      },
      "source": [
        "A = int(input())\n",
        "print(A * A)"
      ],
      "execution_count": 11,
      "outputs": [
        {
          "output_type": "stream",
          "text": [
            "2\n",
            "4\n"
          ],
          "name": "stdout"
        }
      ]
    },
    {
      "cell_type": "markdown",
      "metadata": {
        "id": "NZWZXkrqUabr"
      },
      "source": [
        "La condition\n",
        "\n",
        "\n",
        "\n",
        "```\n",
        "A <- demande un valeur\n",
        "Si la valeur est suppérieur à 0\n",
        "  le nombre est positif\n",
        "Sinon il est négatif\n",
        "```\n",
        "\n"
      ]
    },
    {
      "cell_type": "code",
      "metadata": {
        "id": "dpVrRO6aOcLJ",
        "outputId": "a79cfb05-eba8-495a-f234-3724ba3e3b94",
        "colab": {
          "base_uri": "https://localhost:8080/",
          "height": 53
        }
      },
      "source": [
        "A = int(input())\n",
        "if A>0:\n",
        "  print('Nombre Positif')\n",
        "else:\n",
        "  print('Nombre négatif')"
      ],
      "execution_count": 12,
      "outputs": [
        {
          "output_type": "stream",
          "text": [
            "-6\n",
            "Nombre négatif\n"
          ],
          "name": "stdout"
        }
      ]
    },
    {
      "cell_type": "code",
      "metadata": {
        "id": "C6oEQLFKpFuc"
      },
      "source": [
        ""
      ],
      "execution_count": null,
      "outputs": []
    },
    {
      "cell_type": "markdown",
      "metadata": {
        "id": "RDSM6VK7UoG2"
      },
      "source": [
        "Le produit\n",
        "\n",
        "\n",
        "```\n",
        "A <- Demande une premère valeur\n",
        "B <- Demande une deuxième valeur\n",
        "Si A ou B est égal à zéro \n",
        "  le résultat est négatif\n",
        "ou alors si A ou B est inférieur à 0\n",
        "  si A & B sont inférieur à 0\n",
        "    alors le résultat est positif\n",
        "  sinon négatif\n",
        "sinon positif\n",
        "```\n",
        "\n"
      ]
    },
    {
      "cell_type": "code",
      "metadata": {
        "id": "4yVjWcwxVL3z",
        "outputId": "2764a905-1199-46cf-818f-7c81923bf67f",
        "colab": {
          "base_uri": "https://localhost:8080/",
          "height": 71
        }
      },
      "source": [
        "A = int(input())\n",
        "B = int(input())\n",
        "if  A==0 or B==0: \n",
        "  print('Nul')\n",
        "elif A<0 or B<0:\n",
        "  if A<0 and B<0:\n",
        "    print('Positif')\n",
        "  else: print('Negatif')\n",
        "else:\n",
        "  print('Positif')"
      ],
      "execution_count": 13,
      "outputs": [
        {
          "output_type": "stream",
          "text": [
            "5\n",
            "-9\n",
            "Negatif\n"
          ],
          "name": "stdout"
        }
      ]
    },
    {
      "cell_type": "markdown",
      "metadata": {
        "id": "bJ492zdiqTUm"
      },
      "source": [
        "Calcule\n",
        "\n",
        "\n",
        "```\n",
        "A <- Demande un nombre de départ\n",
        "index\n",
        "\n",
        "tant que index est < à 10\n",
        "  A = A + 1\n",
        "  on affiche A\n",
        "  index = index +1\n",
        "\n",
        "```\n",
        "\n"
      ]
    },
    {
      "cell_type": "code",
      "metadata": {
        "id": "v9d3Ag8dq3WR",
        "outputId": "3c3ee6b3-3f8f-416b-d58d-ac8d5c479a4b",
        "colab": {
          "base_uri": "https://localhost:8080/",
          "height": 215
        }
      },
      "source": [
        "A = int(input(\"Nombre de départ :\"))\n",
        "i = 0\n",
        "while i < 10 :\n",
        "  A = A + 1\n",
        "  i = i + 1\n",
        "  print(A)\n"
      ],
      "execution_count": 14,
      "outputs": [
        {
          "output_type": "stream",
          "text": [
            "Nombre de départ :8\n",
            "9\n",
            "10\n",
            "11\n",
            "12\n",
            "13\n",
            "14\n",
            "15\n",
            "16\n",
            "17\n",
            "18\n"
          ],
          "name": "stdout"
        }
      ]
    },
    {
      "cell_type": "markdown",
      "metadata": {
        "id": "pcJThh3TVJwy"
      },
      "source": [
        "Additivté\n",
        "\n",
        "\n",
        "```\n",
        "N <- Demande un nombre de départ\n",
        "Somme <- 0\n",
        "\n",
        "pour chaque nombre jusqu'à N+1\n",
        "  somme <- somme + chaque nombre\n",
        "  \n",
        "```\n",
        "\n"
      ]
    },
    {
      "cell_type": "code",
      "metadata": {
        "id": "6YyITGKhnpRY",
        "outputId": "dc5670c8-e3e9-43d5-9c34-2d309934acb8",
        "colab": {
          "base_uri": "https://localhost:8080/",
          "height": 53
        }
      },
      "source": [
        "N = int(input(\"Un nombre stp \"))\n",
        "somme = 0\n",
        "for chaque_nombre in range(N+1):\n",
        "  somme = somme + chaque_nombre\n",
        "print(\"La somme est\",somme)"
      ],
      "execution_count": 15,
      "outputs": [
        {
          "output_type": "stream",
          "text": [
            "Un nombre stp 56\n",
            "La somme est 1596\n"
          ],
          "name": "stdout"
        }
      ]
    },
    {
      "cell_type": "markdown",
      "metadata": {
        "id": "MDG8PjSrq3hc"
      },
      "source": [
        "`+ - * / // round()`"
      ]
    },
    {
      "cell_type": "markdown",
      "metadata": {
        "id": "UXQg0atll2be"
      },
      "source": [
        "**LES TABLEAUX**"
      ]
    },
    {
      "cell_type": "markdown",
      "metadata": {
        "id": "uBnHh6Ufl8zJ"
      },
      "source": [
        "La somme\n",
        "\n",
        "```\n",
        "tableau <- plusieurs valeurs\n",
        "resultat <- 0\n",
        "parcourir le tableau\n",
        "  resultat <- J'additionne chaque élément avec le précédent \n",
        "j'affiche le résultat\n",
        "```"
      ]
    },
    {
      "cell_type": "code",
      "metadata": {
        "id": "NsvvuS_6nQHW",
        "outputId": "aff54bb7-73d0-4975-e32c-80e82d2198b7",
        "colab": {
          "base_uri": "https://localhost:8080/",
          "height": 53
        }
      },
      "source": [
        "from random import randint\n",
        "tableau = [randint(0,20) for _ in range(10)]\n",
        "resultat = 0\n",
        "print(tableau)\n",
        "\n",
        "for nombre in tableau :\n",
        "  resultat = resultat + nombre\n",
        "  \n",
        "print(resultat)"
      ],
      "execution_count": 17,
      "outputs": [
        {
          "output_type": "stream",
          "text": [
            "[3, 14, 14, 8, 20, 8, 2, 10, 10, 17]\n",
            "106\n"
          ],
          "name": "stdout"
        }
      ]
    },
    {
      "cell_type": "markdown",
      "metadata": {
        "id": "afYLTR_EpCio"
      },
      "source": [
        "La somme : retour\n",
        "\n",
        "\n",
        "\n",
        "```\n",
        "tab1 <- plusieurs valeurs\n",
        "tab2 <- plusieurs valeurs\n",
        "tab3 <- []\n",
        "longueur_tableau = 10\n",
        "\n",
        "tant que index n'est pas égal à longueur_tableau\n",
        "  ajoute le résultat à tab3 <- index de tab1 + index de tab2\n",
        "\n",
        "afficher tab3\n",
        "```\n",
        "\n"
      ]
    },
    {
      "cell_type": "code",
      "metadata": {
        "id": "bBTeDaEyqgvW",
        "outputId": "f59adb7a-f6ff-4120-b015-1605c05beaad",
        "colab": {
          "base_uri": "https://localhost:8080/",
          "height": 197
        }
      },
      "source": [
        "from random import randint\n",
        "tab1 = [randint(0,20) for _ in range(10)]\n",
        "tab2 = [randint(0,20) for _ in range(10)]\n",
        "tab3 = []\n",
        "longueur_tableau = 10\n",
        "i = 0\n",
        "\n",
        "while i < longueur_tableau :\n",
        "  tab3.append(tab1[i] + tab2[i])\n",
        "  print(tab1[i], '+',tab2[i],\"=\",tab3[i])\n",
        "  i = i + 1"
      ],
      "execution_count": 18,
      "outputs": [
        {
          "output_type": "stream",
          "text": [
            "1 + 4 = 5\n",
            "19 + 12 = 31\n",
            "6 + 12 = 18\n",
            "14 + 13 = 27\n",
            "19 + 9 = 28\n",
            "9 + 14 = 23\n",
            "20 + 9 = 29\n",
            "19 + 14 = 33\n",
            "8 + 11 = 19\n",
            "12 + 13 = 25\n"
          ],
          "name": "stdout"
        }
      ]
    },
    {
      "cell_type": "markdown",
      "metadata": {
        "id": "KPXSIUzrsmXt"
      },
      "source": [
        "FacProduct\n",
        "\n",
        "\n",
        "```\n",
        "tab1 <- tableau de 10 valeurs\n",
        "tab2 <- tableau de 10 valeurs \n",
        "i <- 0\n",
        "\n",
        "tant que i n'est pas égal à la longueur des tableaux\n",
        "  ajoute à tab 3 la valeur de tab1[i] et tab2[i]\n",
        "  incrémentation de i\n",
        "\n",
        "on parcourt tab3\n",
        "  on additionne le resultat aux valeurs du tableaux\n",
        "\n",
        "afficher le facProduct\n",
        "```\n",
        "\n"
      ]
    },
    {
      "cell_type": "code",
      "metadata": {
        "id": "EUO6DZjrs0gK",
        "outputId": "e1f1e772-54e0-4ae4-c294-ad4d739a111e",
        "colab": {
          "base_uri": "https://localhost:8080/",
          "height": 35
        }
      },
      "source": [
        "from random import randint\n",
        "tab1 = [randint(0,20) for _ in range(10)]\n",
        "tab2 = [randint(0,20) for _ in range(10)]\n",
        "tab3 = []\n",
        "longueur_tableau = 10\n",
        "facProduct = 0\n",
        "i = 0\n",
        "\n",
        "while i < longueur_tableau:\n",
        "  tab3.append(tab1[i] * tab2[i])\n",
        "  i = i + 1\n",
        "\n",
        "for valeur in tab3:\n",
        "  facProduct = facProduct + valeur\n",
        "\n",
        "print(facProduct)"
      ],
      "execution_count": 21,
      "outputs": [
        {
          "output_type": "stream",
          "text": [
            "696\n"
          ],
          "name": "stdout"
        }
      ]
    },
    {
      "cell_type": "markdown",
      "metadata": {
        "id": "xlxAQWaPodVh"
      },
      "source": [
        "Le plus grand\n",
        "\n",
        "\n",
        "```\n",
        "nb_valeurs <- Demandes le nombre de valeur à utiliser \n",
        "tab <- ajoute aléatoirement [nb_valeurs] de fois des nombres\n",
        "\n",
        "on parcours le tableau \n",
        "  si une valeur est plus grande que la précèdente\n",
        "    on stock la valeur dans max et son index dans index_max\n",
        "```\n",
        "\n"
      ]
    },
    {
      "cell_type": "code",
      "metadata": {
        "id": "0CS1zMSlpke5",
        "outputId": "7cc4f9b8-59b9-462b-8731-77720043a6c6",
        "colab": {
          "base_uri": "https://localhost:8080/",
          "height": 71
        }
      },
      "source": [
        "tab = [randint(0,20) for _ in range(int(input(\"La longueur du tableau sera de : \")))]\n",
        "max = 0\n",
        "\n",
        "for i, valeur in enumerate(tab):\n",
        "  if valeur > max :\n",
        "    max = valeur\n",
        "    max_index = i\n",
        "\n",
        "print(tab,\"\\nLe maximum est\", max, \", postion :\", max_index)\n"
      ],
      "execution_count": 22,
      "outputs": [
        {
          "output_type": "stream",
          "text": [
            "La longueur du tableau sera de : 8\n",
            "[11, 6, 10, 5, 4, 0, 1, 5] \n",
            "Le maximum est 11 , postion : 0\n"
          ],
          "name": "stdout"
        }
      ]
    },
    {
      "cell_type": "markdown",
      "metadata": {
        "id": "frGGO67wrbi5"
      },
      "source": [
        "**MATHS**"
      ]
    },
    {
      "cell_type": "markdown",
      "metadata": {
        "id": "CzVtLOsLrh-f"
      },
      "source": [
        "Le temps d’arrêt\n",
        "\n",
        "\n",
        "\n",
        "```\n",
        "# Ce texte est au format code\n",
        "```\n",
        "\n"
      ]
    }
  ]
}